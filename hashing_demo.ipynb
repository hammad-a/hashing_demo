{
 "cells": [
  {
   "cell_type": "code",
   "execution_count": 33,
   "id": "85189f57",
   "metadata": {},
   "outputs": [],
   "source": [
    "import time"
   ]
  },
  {
   "cell_type": "code",
   "execution_count": 34,
   "id": "1d09a7dc",
   "metadata": {},
   "outputs": [],
   "source": [
    "def update_hash(container, word):\n",
    "    # attempt to find word in hash table and increment count, O(1)\n",
    "    if word in container:\n",
    "        container[word] += 1\n",
    "    else:\n",
    "        # not already in container, initialize count to 1\n",
    "        container[word] = 1"
   ]
  },
  {
   "cell_type": "code",
   "execution_count": 35,
   "id": "f43326eb",
   "metadata": {},
   "outputs": [],
   "source": [
    "def update_list(container, word):\n",
    "    # special case: insert into empty container, O(1)\n",
    "    if len(container) == 0:\n",
    "        container.append((word, 1))\n",
    "    else:\n",
    "        # attempt to find word in list, O(n)\n",
    "        for i in range(len(container)):\n",
    "            (key, count) = container[i]\n",
    "            if key == word:\n",
    "                container[i] = (key, count + 1)\n",
    "                return\n",
    "        # append if not already in container, O(1)\n",
    "        container.append((word, 1))"
   ]
  },
  {
   "cell_type": "code",
   "execution_count": 36,
   "id": "b7b30442",
   "metadata": {},
   "outputs": [
    {
     "name": "stdout",
     "output_type": "stream",
     "text": [
      "Word count using hashing...\n",
      "Took 0.204 seconds for hashing...\n",
      "\n",
      "Word count using a list...\n",
      "Took 11.670 seconds for list...\n",
      "\n",
      "Hashing was 57.14 times faster than using a list!\n"
     ]
    }
   ],
   "source": [
    "with open(\"in.txt\", \"r\") as f:\n",
    "    \n",
    "    # setup / initialization\n",
    "    lines = f.readlines()\n",
    "    wc_hash = dict()\n",
    "    wc_list = []\n",
    "    \n",
    "    print(\"Word count using hashing...\")\n",
    "    s = time.time()\n",
    "    for l in lines: # for each line...\n",
    "        for w in l.split(\" \"): # ... get the words in the line\n",
    "            w = w.strip() # remove leading and trailing whitespaces\n",
    "            update_hash(wc_hash, w)\n",
    "    e = time.time()\n",
    "    print(\"Took %0.3f seconds for hashing...\\n\" % (e-s))\n",
    "    t1 = e-s\n",
    "        \n",
    "    print(\"Word count using a list...\")\n",
    "    s = time.time()\n",
    "    for l in lines: # for each line...\n",
    "        for w in l.split(\" \"): # ... get the words in the line\n",
    "            w = w.strip()\n",
    "            update_list(wc_list, w)\n",
    "    e = time.time()\n",
    "    print(\"Took %0.3f seconds for list...\\n\" % (e-s))\n",
    "    t2 = e - s\n",
    "    \n",
    "    print(\"Hashing was %0.2f times faster than using a list!\" % (t2/t1))"
   ]
  }
 ],
 "metadata": {
  "kernelspec": {
   "display_name": "Python 3 (ipykernel)",
   "language": "python",
   "name": "python3"
  },
  "language_info": {
   "codemirror_mode": {
    "name": "ipython",
    "version": 3
   },
   "file_extension": ".py",
   "mimetype": "text/x-python",
   "name": "python",
   "nbconvert_exporter": "python",
   "pygments_lexer": "ipython3",
   "version": "3.9.6"
  }
 },
 "nbformat": 4,
 "nbformat_minor": 5
}
