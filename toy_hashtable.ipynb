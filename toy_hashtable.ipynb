{
 "cells": [
  {
   "cell_type": "code",
   "execution_count": 305,
   "id": "0887e175",
   "metadata": {},
   "outputs": [],
   "source": [
    "# initialize table from slide 16\n",
    "table = [(\"apple\", 91), None, None, None, None, None, (\"grape\", 20), None]"
   ]
  },
  {
   "cell_type": "code",
   "execution_count": 306,
   "id": "ce91e137",
   "metadata": {},
   "outputs": [],
   "source": [
    "def translate(word):\n",
    "    return ord(word[0]) - ord('a')"
   ]
  },
  {
   "cell_type": "code",
   "execution_count": 307,
   "id": "26452a2b",
   "metadata": {},
   "outputs": [],
   "source": [
    "def insert(key, value):\n",
    "    index = translate(key)\n",
    "    table[index] = (key, value)\n",
    "\n",
    "def lookup(key):\n",
    "    index = translate(key)\n",
    "    return table[index]"
   ]
  },
  {
   "cell_type": "code",
   "execution_count": 308,
   "id": "e96eb394",
   "metadata": {},
   "outputs": [
    {
     "name": "stdout",
     "output_type": "stream",
     "text": [
      "Inserting <banana, 23> into the table\n",
      "[('apple', 91), ('banana', 23), None, None, None, None, ('grape', 20), None]\n",
      "('banana', 23)\n"
     ]
    }
   ],
   "source": [
    "# adding <banana, 23> to the table\n",
    "print(\"Inserting <banana, 23> into the table\")\n",
    "insert(\"banana\", 23)\n",
    "print(table)\n",
    "print(lookup(\"banana\"))"
   ]
  },
  {
   "cell_type": "code",
   "execution_count": 309,
   "id": "95ecad4c",
   "metadata": {},
   "outputs": [],
   "source": [
    "def compress(hashint, size):\n",
    "    return hashint % size"
   ]
  },
  {
   "cell_type": "code",
   "execution_count": 310,
   "id": "49e2b287",
   "metadata": {},
   "outputs": [],
   "source": [
    "def insert(key, value):\n",
    "    index = compress(translate(key), len(table))\n",
    "    table[index] = (key, value)\n",
    "\n",
    "def lookup(key):\n",
    "    index = compress(translate(key), len(table))\n",
    "    return table[index]"
   ]
  },
  {
   "cell_type": "code",
   "execution_count": 311,
   "id": "6e0f9b9f",
   "metadata": {},
   "outputs": [
    {
     "name": "stdout",
     "output_type": "stream",
     "text": [
      "Inserting <lemon, 7> into the table\n",
      "[('apple', 91), ('banana', 23), None, ('lemon', 7), None, None, ('grape', 20), None]\n",
      "('lemon', 7)\n"
     ]
    }
   ],
   "source": [
    "# adding <lemon, 7> to the table\n",
    "print(\"Inserting <lemon, 7> into the table\")\n",
    "insert(\"lemon\", 7)\n",
    "print(table)\n",
    "print(lookup(\"lemon\"))"
   ]
  },
  {
   "cell_type": "code",
   "execution_count": 312,
   "id": "4a50b32c",
   "metadata": {},
   "outputs": [],
   "source": [
    "# define class Node\n",
    "class Node:\n",
    "    def __init__(self, entry):\n",
    "        self.entry = entry\n",
    "        self.next = None"
   ]
  },
  {
   "cell_type": "code",
   "execution_count": 313,
   "id": "78287cf5",
   "metadata": {},
   "outputs": [],
   "source": [
    "# define class Chain with insert, lookup, and remove methods \n",
    "class Chain:\n",
    "    def __init__(self, head = None):\n",
    "        self.head = head\n",
    "    \n",
    "    # insert method adds the new entry to the head of the chain\n",
    "    def insert(self, entry):\n",
    "        new_node = Node(entry)\n",
    "        if self.head is None: # if chain empty, just set new node to be head\n",
    "            self.head = new_node\n",
    "        else: # else, move head one over before setting the new node to be head\n",
    "            new_node.next = self.head\n",
    "            self.head = new_node\n",
    "    \n",
    "    # lookup traverses the chain to find a key match\n",
    "    def lookup(self, key):\n",
    "        current_node = self.head\n",
    "        while current_node: # as long as there are nodes to look at\n",
    "            if current_node.entry[0] == key: # key found\n",
    "                return current_node.entry\n",
    "            current_node = current_node.next\n",
    "        return None # key not found\n",
    "    \n",
    "    # remove finds and removes the node associated with the key\n",
    "    def remove(self, key):\n",
    "        current_node = self.head\n",
    "        prev_node = None\n",
    "        if current_node.entry[0] == key: # if key associated with the head node, no need to traverse the chain\n",
    "            self.head = current_node.next\n",
    "            return\n",
    "        while(current_node and current_node.entry[0] != key): # traverse the chain to find the key\n",
    "            prev_node = current_node\n",
    "            current_node = current_node.next\n",
    "        if current_node == None: # key not found\n",
    "            return\n",
    "        else:\n",
    "            prev_node.next = current_node.next # remove node\n",
    "    \n",
    "    # str representation of the chain (to be used by the print method)\n",
    "    def __str__(self):\n",
    "        ret = \"\"\n",
    "        current_node = self.head\n",
    "        while(current_node):\n",
    "            if current_node.next: # add -> between nodes if a next node exists in the chain\n",
    "                ret += str(current_node.entry) + \" -> \"\n",
    "            else:\n",
    "                ret += str(current_node.entry)\n",
    "            current_node = current_node.next\n",
    "        return ret"
   ]
  },
  {
   "cell_type": "code",
   "execution_count": 314,
   "id": "4de46c99",
   "metadata": {},
   "outputs": [],
   "source": [
    "def print_table(table):\n",
    "    print(\"=\" * 15)\n",
    "    for chain in table:\n",
    "        print(chain)\n",
    "    print(\"=\" * 15)"
   ]
  },
  {
   "cell_type": "code",
   "execution_count": 315,
   "id": "32d14004",
   "metadata": {},
   "outputs": [
    {
     "name": "stdout",
     "output_type": "stream",
     "text": [
      "Initializing table...\n",
      "===============\n",
      "('apple', 91)\n",
      "('banana', 23)\n",
      "\n",
      "('lemon', 7)\n",
      "('mango', 12)\n",
      "\n",
      "('grape', 20)\n",
      "('pear', 34)\n",
      "===============\n"
     ]
    }
   ],
   "source": [
    "# initialize table from slide 21\n",
    "print(\"Initializing table...\")\n",
    "table = [Chain(Node((\"apple\", 91))), Chain(Node((\"banana\", 23))),\n",
    "    Chain(), Chain(Node((\"lemon\", 7))),\n",
    "    Chain(Node((\"mango\", 12))), Chain(),\n",
    "    Chain(Node((\"grape\", 20))), Chain(Node((\"pear\", 34)))]\n",
    "\n",
    "print_table(table)"
   ]
  },
  {
   "cell_type": "code",
   "execution_count": 316,
   "id": "c0fb955b",
   "metadata": {},
   "outputs": [],
   "source": [
    "# insert with separate chaining\n",
    "def insert(key, value):\n",
    "    index = compress(translate(key), len(table)) # get bucket index, O(1)\n",
    "    chain = table[index] # retrieve chain, O(1)\n",
    "    if chain.lookup(key) == None: # if not already in table, O(???)\n",
    "        chain.insert((key, value)) # add to chain, O(1)"
   ]
  },
  {
   "cell_type": "code",
   "execution_count": 317,
   "id": "6438dc9f",
   "metadata": {},
   "outputs": [],
   "source": [
    "# lookup with separate chaining\n",
    "def lookup(key):\n",
    "    index = compress(translate(key), len(table)) # get bucket index, O(1)\n",
    "    chain = table[index] # retrieve chain, O(1)\n",
    "    return chain.lookup(key) # find key in chain, O(???)"
   ]
  },
  {
   "cell_type": "code",
   "execution_count": 318,
   "id": "7e1dd1a9",
   "metadata": {},
   "outputs": [],
   "source": [
    "# delete with separate chaining\n",
    "def remove(key):\n",
    "    index = compress(translate(key), len(table)) # get bucket index, O(1)\n",
    "    chain = table[index] # retrieve chain, O(1)\n",
    "    chain.remove(key) # find and remove key, O(???)"
   ]
  },
  {
   "cell_type": "code",
   "execution_count": 319,
   "id": "76507aba",
   "metadata": {},
   "outputs": [
    {
     "name": "stdout",
     "output_type": "stream",
     "text": [
      "('apple', 91)\n",
      "('banana', 23)\n"
     ]
    }
   ],
   "source": [
    "print(lookup(\"apple\"))\n",
    "print(lookup(\"banana\"))"
   ]
  },
  {
   "cell_type": "code",
   "execution_count": 320,
   "id": "c2c62911",
   "metadata": {
    "scrolled": true
   },
   "outputs": [
    {
     "name": "stdout",
     "output_type": "stream",
     "text": [
      "Inserting <orange, 3> into the table\n",
      "===============\n",
      "('apple', 91)\n",
      "('banana', 23)\n",
      "\n",
      "('lemon', 7)\n",
      "('mango', 12)\n",
      "\n",
      "('orange', 3) -> ('grape', 20)\n",
      "('pear', 34)\n",
      "===============\n"
     ]
    }
   ],
   "source": [
    "print(\"Inserting <orange, 3> into the table\")\n",
    "insert(\"orange\", 3)\n",
    "print_table(table)"
   ]
  },
  {
   "cell_type": "code",
   "execution_count": 321,
   "id": "2f4f810d",
   "metadata": {},
   "outputs": [
    {
     "name": "stdout",
     "output_type": "stream",
     "text": [
      "Inserting <orange> from the table\n",
      "===============\n",
      "('apple', 91)\n",
      "('banana', 23)\n",
      "\n",
      "('lemon', 7)\n",
      "('mango', 12)\n",
      "\n",
      "('grape', 20)\n",
      "('pear', 34)\n",
      "===============\n"
     ]
    }
   ],
   "source": [
    "print(\"Inserting <orange> from the table\")\n",
    "remove(\"orange\")\n",
    "print_table(table)"
   ]
  }
 ],
 "metadata": {
  "kernelspec": {
   "display_name": "Python 3 (ipykernel)",
   "language": "python",
   "name": "python3"
  },
  "language_info": {
   "codemirror_mode": {
    "name": "ipython",
    "version": 3
   },
   "file_extension": ".py",
   "mimetype": "text/x-python",
   "name": "python",
   "nbconvert_exporter": "python",
   "pygments_lexer": "ipython3",
   "version": "3.9.6"
  }
 },
 "nbformat": 4,
 "nbformat_minor": 5
}
