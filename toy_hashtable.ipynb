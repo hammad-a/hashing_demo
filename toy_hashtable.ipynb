{
 "cells": [
  {
   "cell_type": "code",
   "execution_count": 38,
   "id": "0887e175",
   "metadata": {},
   "outputs": [],
   "source": [
    "# initialize table from slide 16\n",
    "table = [(\"apple\", 91), None, None, None, None, None, (\"grape\", 20), None]"
   ]
  },
  {
   "cell_type": "code",
   "execution_count": 39,
   "id": "ce91e137",
   "metadata": {},
   "outputs": [],
   "source": [
    "def translate(word):\n",
    "    return ord(word[0]) - ord('a')"
   ]
  },
  {
   "cell_type": "code",
   "execution_count": 40,
   "id": "26452a2b",
   "metadata": {},
   "outputs": [],
   "source": [
    "def insert(key, value):\n",
    "    index = translate(key)\n",
    "    table[index] = (key, value)\n",
    "\n",
    "def lookup(key):\n",
    "    index = translate(key)\n",
    "    return table[index]"
   ]
  },
  {
   "cell_type": "code",
   "execution_count": 41,
   "id": "e96eb394",
   "metadata": {},
   "outputs": [
    {
     "name": "stdout",
     "output_type": "stream",
     "text": [
      "('banana', 23)\n",
      "[('apple', 91), ('banana', 23), None, None, None, None, ('grape', 20), None]\n"
     ]
    }
   ],
   "source": [
    "# adding <banana, 23> to the table\n",
    "insert(\"banana\", 23)\n",
    "print(lookup(\"banana\"))\n",
    "print(table)"
   ]
  },
  {
   "cell_type": "code",
   "execution_count": 42,
   "id": "95ecad4c",
   "metadata": {},
   "outputs": [],
   "source": [
    "def compress(hashint, size):\n",
    "    return hashint % size"
   ]
  },
  {
   "cell_type": "code",
   "execution_count": 43,
   "id": "49e2b287",
   "metadata": {},
   "outputs": [],
   "source": [
    "def insert(key, value):\n",
    "    index = compress(translate(key), len(table))\n",
    "    table[index] = (key, value)\n",
    "\n",
    "def lookup(key):\n",
    "    index = compress(translate(key), len(table))\n",
    "    return table[index]"
   ]
  },
  {
   "cell_type": "code",
   "execution_count": 44,
   "id": "6e0f9b9f",
   "metadata": {},
   "outputs": [
    {
     "name": "stdout",
     "output_type": "stream",
     "text": [
      "('lemon', 7)\n",
      "[('apple', 91), ('banana', 23), None, ('lemon', 7), None, None, ('grape', 20), None]\n"
     ]
    }
   ],
   "source": [
    "# adding <lemon, 7> to the table\n",
    "insert(\"lemon\", 7)\n",
    "print(lookup(\"lemon\"))\n",
    "print(table)"
   ]
  },
  {
   "cell_type": "code",
   "execution_count": 45,
   "id": "4a50b32c",
   "metadata": {},
   "outputs": [],
   "source": [
    "# define class Node\n",
    "class Node:\n",
    "    def __init__(self, entry):\n",
    "        self.entry = entry\n",
    "        self.next = None"
   ]
  },
  {
   "cell_type": "code",
   "execution_count": 46,
   "id": "78287cf5",
   "metadata": {},
   "outputs": [],
   "source": [
    "# define class Chain with insert, lookup, and remove methods \n",
    "class Chain:\n",
    "    def __init__(self, head = None):\n",
    "        self.head = head\n",
    "        \n",
    "    def insert(self, entry):\n",
    "        new_node = Node(entry)\n",
    "        if self.head is None:\n",
    "            self.head = new_node\n",
    "            return\n",
    "        else:\n",
    "            new_node.next = self.head\n",
    "            self.head = new_node\n",
    "    \n",
    "    def lookup(self, key):\n",
    "        current_node = self.head\n",
    "        while current_node:\n",
    "            if current_node.entry[0] == key:\n",
    "                return current_node.entry\n",
    "            current_node = current_node.next\n",
    "        return None\n",
    "    \n",
    "    def remove(self, key):\n",
    "        current_node = self.head\n",
    "        prev_node = None\n",
    "        \n",
    "        if current_node.entry[0] == key:\n",
    "            self.head = current_node.next\n",
    "            return\n",
    "        while(current_node and current_node.entry[0] != key):\n",
    "            prev_node = current_node\n",
    "            current_node = current_node.next\n",
    "        if current_node == None:\n",
    "            return\n",
    "        else:\n",
    "            prev_node.next = current_node.next\n",
    "    \n",
    "    def print_chain(self):\n",
    "        current_node = self.head\n",
    "        while(current_node):\n",
    "            print(current_node.entry, end = \" \")\n",
    "            current_node = current_node.next\n",
    "        print()"
   ]
  },
  {
   "cell_type": "code",
   "execution_count": 47,
   "id": "4de46c99",
   "metadata": {},
   "outputs": [],
   "source": [
    "def print_table(table):\n",
    "    for chain in table:\n",
    "        chain.print_chain()"
   ]
  },
  {
   "cell_type": "code",
   "execution_count": 48,
   "id": "32d14004",
   "metadata": {},
   "outputs": [
    {
     "name": "stdout",
     "output_type": "stream",
     "text": [
      "('apple', 91) \n",
      "('banana', 23) \n",
      "\n",
      "('lemon', 7) \n",
      "('mango', 12) \n",
      "\n",
      "('grape', 20) \n",
      "('pear', 34) \n"
     ]
    }
   ],
   "source": [
    "# initialize table from slide 21\n",
    "table = [Chain(Node((\"apple\", 91))), Chain(Node((\"banana\", 23))),\n",
    "    Chain(), Chain(Node((\"lemon\", 7))),\n",
    "    Chain(Node((\"mango\", 12))), Chain(),\n",
    "    Chain(Node((\"grape\", 20))), Chain(Node((\"pear\", 34)))]\n",
    "\n",
    "print_table(table)"
   ]
  },
  {
   "cell_type": "code",
   "execution_count": 49,
   "id": "c0fb955b",
   "metadata": {},
   "outputs": [],
   "source": [
    "# insert with separate chaining\n",
    "def insert(key, value):\n",
    "    index = compress(translate(key), len(table)) # get bucket index, O(1)\n",
    "    chain = table[index] # retrieve chain, O(1)\n",
    "    if chain.lookup(key) == None: # if not already in table, O(???)\n",
    "        chain.insert((key, value)) # add to chain, O(1)"
   ]
  },
  {
   "cell_type": "code",
   "execution_count": 50,
   "id": "6438dc9f",
   "metadata": {},
   "outputs": [],
   "source": [
    "# lookup with separate chaining\n",
    "def lookup(key):\n",
    "    index = compress(translate(key), len(table)) # get bucket index, O(1)\n",
    "    chain = table[index] # retrieve chain, O(1)\n",
    "    return chain.lookup(key) # find key in chain, O(???)"
   ]
  },
  {
   "cell_type": "code",
   "execution_count": 51,
   "id": "7e1dd1a9",
   "metadata": {},
   "outputs": [],
   "source": [
    "# delete with separate chaining\n",
    "def remove(key):\n",
    "    index = compress(translate(key), len(table)) # get bucket index, O(1)\n",
    "    chain = table[index] # retrieve chain, O(1)\n",
    "    chain.remove(key) # find and remove key, O(???)"
   ]
  },
  {
   "cell_type": "code",
   "execution_count": 52,
   "id": "c2c62911",
   "metadata": {},
   "outputs": [
    {
     "name": "stdout",
     "output_type": "stream",
     "text": [
      "('orange', 3)\n",
      "('grape', 20)\n",
      "('apple', 91) \n",
      "('banana', 23) \n",
      "\n",
      "('lemon', 7) \n",
      "('mango', 12) \n",
      "\n",
      "('orange', 3) ('grape', 20) \n",
      "('pear', 34) \n"
     ]
    }
   ],
   "source": [
    "insert(\"orange\", 3)\n",
    "print(lookup(\"orange\"))\n",
    "print(lookup(\"grape\"))\n",
    "print_table(table)"
   ]
  },
  {
   "cell_type": "code",
   "execution_count": 54,
   "id": "96aa3096",
   "metadata": {
    "scrolled": true
   },
   "outputs": [
    {
     "name": "stdout",
     "output_type": "stream",
     "text": [
      "('apple', 91) \n",
      "('banana', 23) \n",
      "\n",
      "('lemon', 7) \n",
      "('mango', 12) \n",
      "\n",
      "('grape', 20) \n",
      "('pear', 34) \n"
     ]
    }
   ],
   "source": [
    "remove(\"orange\")\n",
    "print_table(table)"
   ]
  }
 ],
 "metadata": {
  "kernelspec": {
   "display_name": "Python 3 (ipykernel)",
   "language": "python",
   "name": "python3"
  },
  "language_info": {
   "codemirror_mode": {
    "name": "ipython",
    "version": 3
   },
   "file_extension": ".py",
   "mimetype": "text/x-python",
   "name": "python",
   "nbconvert_exporter": "python",
   "pygments_lexer": "ipython3",
   "version": "3.9.6"
  }
 },
 "nbformat": 4,
 "nbformat_minor": 5
}
