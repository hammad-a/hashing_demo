{
 "cells": [
  {
   "cell_type": "code",
   "execution_count": 480,
   "id": "0887e175",
   "metadata": {},
   "outputs": [],
   "source": [
    "# initialize table from slide 16\n",
    "table = [(\"apple\", 91), None, None, None, None, None, (\"grape\", 20), None]"
   ]
  },
  {
   "cell_type": "code",
   "execution_count": 481,
   "id": "ce91e137",
   "metadata": {},
   "outputs": [],
   "source": [
    "def translate(word):\n",
    "    return ord(word[0]) - ord('a')"
   ]
  },
  {
   "cell_type": "code",
   "execution_count": 482,
   "id": "26452a2b",
   "metadata": {},
   "outputs": [],
   "source": [
    "def insert(key, value):\n",
    "    index = translate(key)\n",
    "    table[index] = (key, value)\n",
    "\n",
    "def lookup(key):\n",
    "    index = translate(key)\n",
    "    return table[index]"
   ]
  },
  {
   "cell_type": "code",
   "execution_count": 483,
   "id": "e96eb394",
   "metadata": {
    "scrolled": true
   },
   "outputs": [
    {
     "name": "stdout",
     "output_type": "stream",
     "text": [
      "Inserting <banana, 23> into the table\n",
      "[('apple', 91), ('banana', 23), None, None, None, None, ('grape', 20), None]\n",
      "('banana', 23)\n"
     ]
    }
   ],
   "source": [
    "# adding <banana, 23> to the table\n",
    "print(\"Inserting <banana, 23> into the table\")\n",
    "insert(\"banana\", 23)\n",
    "print(table)\n",
    "print(lookup(\"banana\"))"
   ]
  },
  {
   "cell_type": "code",
   "execution_count": 484,
   "id": "c4221425",
   "metadata": {},
   "outputs": [],
   "source": [
    "# adding <lemon, 7> to the table before compressing\n",
    "# print(\"Inserting <lemon, 7> into the table. This should fail!\")\n",
    "# insert(\"lemon\", 7)\n",
    "# print(table)\n",
    "# print(lookup(\"lemon\"))"
   ]
  },
  {
   "cell_type": "code",
   "execution_count": 485,
   "id": "95ecad4c",
   "metadata": {},
   "outputs": [],
   "source": [
    "def compress(hashint, size):\n",
    "    return hashint % size"
   ]
  },
  {
   "cell_type": "code",
   "execution_count": 486,
   "id": "49e2b287",
   "metadata": {},
   "outputs": [],
   "source": [
    "def insert(key, value):\n",
    "    index = compress(translate(key), len(table))\n",
    "    table[index] = (key, value)\n",
    "\n",
    "def lookup(key):\n",
    "    index = compress(translate(key), len(table))\n",
    "    return table[index]"
   ]
  },
  {
   "cell_type": "code",
   "execution_count": 487,
   "id": "6e0f9b9f",
   "metadata": {},
   "outputs": [
    {
     "name": "stdout",
     "output_type": "stream",
     "text": [
      "Inserting <lemon, 7> into the table\n",
      "[('apple', 91), ('banana', 23), None, ('lemon', 7), None, None, ('grape', 20), None]\n",
      "('lemon', 7)\n"
     ]
    }
   ],
   "source": [
    "# adding <lemon, 7> to the table\n",
    "print(\"Inserting <lemon, 7> into the table\")\n",
    "insert(\"lemon\", 7)\n",
    "print(table)\n",
    "print(lookup(\"lemon\"))"
   ]
  },
  {
   "cell_type": "code",
   "execution_count": 488,
   "id": "4a50b32c",
   "metadata": {},
   "outputs": [],
   "source": [
    "# define class Node\n",
    "class Node:\n",
    "    def __init__(self, entry):\n",
    "        self.entry = entry\n",
    "        self.next = None"
   ]
  },
  {
   "cell_type": "code",
   "execution_count": 489,
   "id": "78287cf5",
   "metadata": {},
   "outputs": [],
   "source": [
    "# define class Chain with insert, lookup, and remove methods \n",
    "class Chain:\n",
    "    def __init__(self, head = None):\n",
    "        self.head = head\n",
    "    \n",
    "    # insert method adds the new entry to the head of the chain\n",
    "    def insert(self, entry):\n",
    "        new_node = Node(entry)\n",
    "        if self.head is None: # if chain empty, just set new node to be head\n",
    "            self.head = new_node\n",
    "        else: # else, move head one over before setting the new node to be head\n",
    "            new_node.next = self.head\n",
    "            self.head = new_node\n",
    "    \n",
    "    # lookup traverses the chain to find a key match\n",
    "    def lookup(self, key):\n",
    "        current_node = self.head\n",
    "        while current_node: # as long as there are nodes to look at\n",
    "            if current_node.entry[0] == key: # key found\n",
    "                return current_node.entry\n",
    "            current_node = current_node.next\n",
    "        return None # key not found\n",
    "    \n",
    "    # remove finds and removes the node associated with the key\n",
    "    def remove(self, key):\n",
    "        current_node = self.head\n",
    "        prev_node = None\n",
    "        if current_node.entry[0] == key: # if key associated with the head node, no need to traverse the chain\n",
    "            self.head = current_node.next\n",
    "            return\n",
    "        while(current_node and current_node.entry[0] != key): # traverse the chain to find the key\n",
    "            prev_node = current_node\n",
    "            current_node = current_node.next\n",
    "        if current_node is None: # key not found\n",
    "            return\n",
    "        else:\n",
    "            prev_node.next = current_node.next # remove node\n",
    "    \n",
    "    # str representation of the chain (to be used by the print method)\n",
    "    def __str__(self):\n",
    "        ret = \"| \"\n",
    "        if self.head is None: return \"| null\" # print \"null\" instead of just a newline for empty chain\n",
    "        current_node = self.head\n",
    "        while(current_node):\n",
    "            if current_node.next: # add -> between nodes if a next node exists in the chain\n",
    "                ret += str(current_node.entry) + \" -> \"\n",
    "            else:\n",
    "                ret += str(current_node.entry)\n",
    "            current_node = current_node.next\n",
    "        return ret"
   ]
  },
  {
   "cell_type": "code",
   "execution_count": 498,
   "id": "4de46c99",
   "metadata": {},
   "outputs": [],
   "source": [
    "def print_table(table):\n",
    "    print(\"=\" * 40)\n",
    "    for i in range(len(table)):\n",
    "        print(\"[%d] %s\" % (i, table[i]))\n",
    "    print(\"=\" * 40)"
   ]
  },
  {
   "cell_type": "code",
   "execution_count": 499,
   "id": "32d14004",
   "metadata": {},
   "outputs": [
    {
     "name": "stdout",
     "output_type": "stream",
     "text": [
      "Initializing table...\n",
      "========================================\n",
      "[0] | ('apple', 91)\n",
      "[1] | ('banana', 23)\n",
      "[2] | null\n",
      "[3] | ('lemon', 7)\n",
      "[4] | ('mango', 12)\n",
      "[5] | null\n",
      "[6] | ('grape', 20)\n",
      "[7] | ('pear', 34)\n",
      "========================================\n"
     ]
    }
   ],
   "source": [
    "# initialize table from slide 21\n",
    "print(\"Initializing table...\")\n",
    "table = [Chain(Node((\"apple\", 91))), Chain(Node((\"banana\", 23))),\n",
    "    Chain(), Chain(Node((\"lemon\", 7))),\n",
    "    Chain(Node((\"mango\", 12))), Chain(),\n",
    "    Chain(Node((\"grape\", 20))), Chain(Node((\"pear\", 34)))]\n",
    "\n",
    "print_table(table)"
   ]
  },
  {
   "cell_type": "code",
   "execution_count": 492,
   "id": "c0fb955b",
   "metadata": {},
   "outputs": [],
   "source": [
    "# insert with separate chaining\n",
    "def insert(key, value):\n",
    "    index = compress(translate(key), len(table)) # get bucket index, O(1)\n",
    "    chain = table[index] # retrieve chain, O(1)\n",
    "    if chain.lookup(key) is None: # if not already in table, O(???)\n",
    "        chain.insert((key, value)) # add to chain, O(1)"
   ]
  },
  {
   "cell_type": "code",
   "execution_count": 493,
   "id": "6438dc9f",
   "metadata": {},
   "outputs": [],
   "source": [
    "# lookup with separate chaining\n",
    "def lookup(key):\n",
    "    index = compress(translate(key), len(table)) # get bucket index, O(1)\n",
    "    chain = table[index] # retrieve chain, O(1)\n",
    "    return chain.lookup(key) # find key in chain, O(???)"
   ]
  },
  {
   "cell_type": "code",
   "execution_count": 494,
   "id": "7e1dd1a9",
   "metadata": {},
   "outputs": [],
   "source": [
    "# delete with separate chaining\n",
    "def remove(key):\n",
    "    index = compress(translate(key), len(table)) # get bucket index, O(1)\n",
    "    chain = table[index] # retrieve chain, O(1)\n",
    "    chain.remove(key) # find and remove key, O(???)"
   ]
  },
  {
   "cell_type": "code",
   "execution_count": 495,
   "id": "c2c62911",
   "metadata": {
    "scrolled": false
   },
   "outputs": [
    {
     "name": "stdout",
     "output_type": "stream",
     "text": [
      "Inserting <orange, 3> into the table\n",
      "========================================\n",
      "[0] | ('apple', 91)\n",
      "[1] | ('banana', 23)\n",
      "[2] | null\n",
      "[3] | ('lemon', 7)\n",
      "[4] | ('mango', 12)\n",
      "[5] | null\n",
      "[6] | ('orange', 3) -> ('grape', 20)\n",
      "[7] | ('pear', 34)\n",
      "========================================\n"
     ]
    }
   ],
   "source": [
    "print(\"Inserting <orange, 3> into the table\")\n",
    "insert(\"orange\", 3)\n",
    "print_table(table)"
   ]
  },
  {
   "cell_type": "code",
   "execution_count": 496,
   "id": "ffa1a05a",
   "metadata": {},
   "outputs": [
    {
     "name": "stdout",
     "output_type": "stream",
     "text": [
      "Inserting <guava, 47> into the table\n",
      "========================================\n",
      "[0] | ('apple', 91)\n",
      "[1] | ('banana', 23)\n",
      "[2] | null\n",
      "[3] | ('lemon', 7)\n",
      "[4] | ('mango', 12)\n",
      "[5] | null\n",
      "[6] | ('guava', 47) -> ('orange', 3) -> ('grape', 20)\n",
      "[7] | ('pear', 34)\n",
      "========================================\n"
     ]
    }
   ],
   "source": [
    "print(\"Inserting <guava, 47> into the table\")\n",
    "insert(\"guava\", 47)\n",
    "print_table(table)"
   ]
  },
  {
   "cell_type": "code",
   "execution_count": 497,
   "id": "db18f4de",
   "metadata": {},
   "outputs": [
    {
     "name": "stdout",
     "output_type": "stream",
     "text": [
      "Removing <orange> from the table\n",
      "========================================\n",
      "[0] | ('apple', 91)\n",
      "[1] | ('banana', 23)\n",
      "[2] | null\n",
      "[3] | ('lemon', 7)\n",
      "[4] | ('mango', 12)\n",
      "[5] | null\n",
      "[6] | ('guava', 47) -> ('grape', 20)\n",
      "[7] | ('pear', 34)\n",
      "========================================\n"
     ]
    }
   ],
   "source": [
    "print(\"Removing <orange> from the table\")\n",
    "remove(\"orange\")\n",
    "print_table(table)"
   ]
  }
 ],
 "metadata": {
  "kernelspec": {
   "display_name": "Python 3 (ipykernel)",
   "language": "python",
   "name": "python3"
  },
  "language_info": {
   "codemirror_mode": {
    "name": "ipython",
    "version": 3
   },
   "file_extension": ".py",
   "mimetype": "text/x-python",
   "name": "python",
   "nbconvert_exporter": "python",
   "pygments_lexer": "ipython3",
   "version": "3.9.6"
  }
 },
 "nbformat": 4,
 "nbformat_minor": 5
}
